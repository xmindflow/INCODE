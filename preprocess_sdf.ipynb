{
 "cells": [
  {
   "cell_type": "code",
   "execution_count": 2,
   "id": "a664e38f",
   "metadata": {},
   "outputs": [],
   "source": [
    "import argparse\n",
    "import os\n",
    "import numpy as np\n",
    "from pysdf import SDF\n",
    "import trimesh\n",
    "from tqdm.notebook import tqdm\n",
    "from einops import rearrange, reduce"
   ]
  },
  {
   "cell_type": "code",
   "execution_count": 3,
   "id": "78b818d0",
   "metadata": {},
   "outputs": [],
   "source": [
    "parser = argparse.ArgumentParser()\n",
    "\n",
    "# parser.add_argument('--path', type=str, default='./incode_data/shape/lucy.ply',\n",
    "#                     help='Path to the object to reconstruct')\n",
    "parser.add_argument('--path', type=str, default='/run/media/elliot/joint/courses/ra/ali_morseli/inr/data/Shape/Armadillo.ply',\n",
    "                    help='Path to the object to reconstruct')\n",
    "# parser.add_argument('--output_path', type=str, default='./incode_data/shape/',\n",
    "#                     help='Output path')\n",
    "parser.add_argument('--output_path', type=str, default='/run/media/elliot/joint/courses/ra/ali_morseli/inr/data/Shape/shape_npy2/',\n",
    "                    help='Output path')\n",
    "parser.add_argument('--N', type=int, default=512,\n",
    "                    help='Resolution (N^3) of the mesh, same for xyz')\n",
    "parser.add_argument('--M', type=int, default=1,\n",
    "                    help='''Number of samples inside each cell to predict\n",
    "                    gt occupancy value. Larger value yields more precise result.\n",
    "                    Must be a ODD CUBIC number (M=1, with larger T is also fine).\n",
    "                    ''')\n",
    "parser.add_argument('--T', type=int, default=5,\n",
    "                    help='''For complex mesh (typically non-watertight),\n",
    "                    infer sdf multiple times and take the average.\n",
    "                    Must be a ODD number (around 5~9 is enough).\n",
    "                    ''')\n",
    "args = parser.parse_args(args=[])"
   ]
  },
  {
   "cell_type": "markdown",
   "id": "05eabbcd",
   "metadata": {},
   "source": [
    "## Preprocessing"
   ]
  },
  {
   "cell_type": "code",
   "execution_count": 4,
   "id": "ce9572b2",
   "metadata": {},
   "outputs": [],
   "source": [
    "# From https://github.com/kwea123/MINER_pl/blob/master/preprocess_mesh.py\n",
    "def volume_preprocessing(N, M, T):\n",
    "    assert M%2 == 1, 'M must be an odd cubic number!!'\n",
    "    assert T%2 == 1, 'T must be an odd number!!'\n",
    "    cbrtM = int(M**(1/3))\n",
    "\n",
    "    o = trimesh.load(args.path, force='mesh', skip_materials=True)\n",
    "    bbox = np.amax(o.vertices, 0)-np.amin(o.vertices, 0)\n",
    "    mesh_whl = bbox/2\n",
    "    o.vertices -= np.amax(o.vertices, 0)-mesh_whl # center the mesh\n",
    "    mesh_whl *= 1.02 # give some margin\n",
    "    xs = np.linspace(-mesh_whl[0], mesh_whl[0], cbrtM*N)\n",
    "    ys = np.linspace(-mesh_whl[1], mesh_whl[1], cbrtM*N)\n",
    "    zs = np.linspace(-mesh_whl[2], mesh_whl[2], cbrtM*N)\n",
    "    occ = np.zeros((N, N, N, 1), np.float32)\n",
    "\n",
    "    print('Computing occupancy values ...')\n",
    "    for t in tqdm(range(T)):\n",
    "        f = SDF(o.vertices, o.faces) # the sdf is different each time...\n",
    "        for i, z in enumerate(tqdm(zs[::cbrtM])):\n",
    "            xyz_ = np.stack(np.meshgrid(xs, ys, zs[i*cbrtM:(i+1)*cbrtM]), -1).reshape(-1, 3)\n",
    "            occ_ = f.contains(xyz_).reshape(cbrtM*N, cbrtM*N, cbrtM)\n",
    "            occ_ = rearrange(occ_, '(h a) (w b) c -> (a b c) h w',\n",
    "                             a=cbrtM, b=cbrtM, c=cbrtM, h=N, w=N).mean(0)\n",
    "            occ[:, :, i, 0] += occ_.astype(np.float32)\n",
    "\n",
    "    occ = (occ>T/2).astype(bool)\n",
    "    \n",
    "    return np.packbits(occ), mesh_whl"
   ]
  },
  {
   "cell_type": "code",
   "execution_count": 5,
   "id": "d145eb0a",
   "metadata": {},
   "outputs": [
    {
     "name": "stdout",
     "output_type": "stream",
     "text": [
      "Computing occupancy values ...\n"
     ]
    },
    {
     "data": {
      "application/vnd.jupyter.widget-view+json": {
       "model_id": "edc0febdc58c43c19fe03da50720b7f1",
       "version_major": 2,
       "version_minor": 0
      },
      "text/plain": [
       "  0%|          | 0/5 [00:00<?, ?it/s]"
      ]
     },
     "metadata": {},
     "output_type": "display_data"
    },
    {
     "data": {
      "application/vnd.jupyter.widget-view+json": {
       "model_id": "bf36c9576a2448e5abd832eec0c75f19",
       "version_major": 2,
       "version_minor": 0
      },
      "text/plain": [
       "  0%|          | 0/512 [00:00<?, ?it/s]"
      ]
     },
     "metadata": {},
     "output_type": "display_data"
    },
    {
     "data": {
      "application/vnd.jupyter.widget-view+json": {
       "model_id": "d7ff3fbbf36147bb8fd5f29d19d7111a",
       "version_major": 2,
       "version_minor": 0
      },
      "text/plain": [
       "  0%|          | 0/512 [00:00<?, ?it/s]"
      ]
     },
     "metadata": {},
     "output_type": "display_data"
    },
    {
     "data": {
      "application/vnd.jupyter.widget-view+json": {
       "model_id": "5fb03475428c432889ac5d85501cc313",
       "version_major": 2,
       "version_minor": 0
      },
      "text/plain": [
       "  0%|          | 0/512 [00:00<?, ?it/s]"
      ]
     },
     "metadata": {},
     "output_type": "display_data"
    },
    {
     "data": {
      "application/vnd.jupyter.widget-view+json": {
       "model_id": "cf4e9321b2554b70978ce762565c5dff",
       "version_major": 2,
       "version_minor": 0
      },
      "text/plain": [
       "  0%|          | 0/512 [00:00<?, ?it/s]"
      ]
     },
     "metadata": {},
     "output_type": "display_data"
    },
    {
     "data": {
      "application/vnd.jupyter.widget-view+json": {
       "model_id": "72bc9972eba3407594dd3190b1d8d35d",
       "version_major": 2,
       "version_minor": 0
      },
      "text/plain": [
       "  0%|          | 0/512 [00:00<?, ?it/s]"
      ]
     },
     "metadata": {},
     "output_type": "display_data"
    },
    {
     "name": "stdout",
     "output_type": "stream",
     "text": [
      "Computing occupancy values ...\n"
     ]
    },
    {
     "data": {
      "application/vnd.jupyter.widget-view+json": {
       "model_id": "cc647263ded2423788c3cb2ea5bf90d3",
       "version_major": 2,
       "version_minor": 0
      },
      "text/plain": [
       "  0%|          | 0/5 [00:00<?, ?it/s]"
      ]
     },
     "metadata": {},
     "output_type": "display_data"
    },
    {
     "data": {
      "application/vnd.jupyter.widget-view+json": {
       "model_id": "0157fc01758b45d58ab51d769984ed5d",
       "version_major": 2,
       "version_minor": 0
      },
      "text/plain": [
       "  0%|          | 0/128 [00:00<?, ?it/s]"
      ]
     },
     "metadata": {},
     "output_type": "display_data"
    },
    {
     "data": {
      "application/vnd.jupyter.widget-view+json": {
       "model_id": "748561fb2385474980fa3834d13b4239",
       "version_major": 2,
       "version_minor": 0
      },
      "text/plain": [
       "  0%|          | 0/128 [00:00<?, ?it/s]"
      ]
     },
     "metadata": {},
     "output_type": "display_data"
    },
    {
     "data": {
      "application/vnd.jupyter.widget-view+json": {
       "model_id": "8eb0c1ffdbfd4b308fe9d6e26b30f055",
       "version_major": 2,
       "version_minor": 0
      },
      "text/plain": [
       "  0%|          | 0/128 [00:00<?, ?it/s]"
      ]
     },
     "metadata": {},
     "output_type": "display_data"
    },
    {
     "data": {
      "application/vnd.jupyter.widget-view+json": {
       "model_id": "4e88315adf3c41238549d73c95bed269",
       "version_major": 2,
       "version_minor": 0
      },
      "text/plain": [
       "  0%|          | 0/128 [00:00<?, ?it/s]"
      ]
     },
     "metadata": {},
     "output_type": "display_data"
    },
    {
     "data": {
      "application/vnd.jupyter.widget-view+json": {
       "model_id": "d02bab3ae1574f7982842c772876af3a",
       "version_major": 2,
       "version_minor": 0
      },
      "text/plain": [
       "  0%|          | 0/128 [00:00<?, ?it/s]"
      ]
     },
     "metadata": {},
     "output_type": "display_data"
    }
   ],
   "source": [
    "occ_im, mesh_whl = volume_preprocessing(args.N, args.M, args.T)\n",
    "occ_gt_im, _ = volume_preprocessing(128, args.M, args.T)"
   ]
  },
  {
   "cell_type": "code",
   "execution_count": 6,
   "id": "dc452096",
   "metadata": {},
   "outputs": [],
   "source": [
    "data = {'im': occ_im, 'mesh_whl': mesh_whl, 'gt_im': occ_gt_im}"
   ]
  },
  {
   "cell_type": "code",
   "execution_count": 7,
   "id": "ab4ad305",
   "metadata": {},
   "outputs": [
    {
     "name": "stdout",
     "output_type": "stream",
     "text": [
      "Occupancy saved to /run/media/elliot/joint/courses/ra/ali_morseli/inr/data/Shape/shape_npy2/occupancies/preprocessed_Armadillo.npy !\n"
     ]
    }
   ],
   "source": [
    "os.makedirs(args.output_path + 'occupancies', exist_ok=True)\n",
    "base = os.path.basename(args.path)\n",
    "save_path = args.output_path + f'occupancies/preprocessed_{os.path.splitext(base)[0]}.npy'\n",
    "np.save(save_path, data)\n",
    "print(f'Occupancy saved to {save_path} !')"
   ]
  },
  {
   "cell_type": "code",
   "execution_count": null,
   "id": "f7c349bd-845a-4cda-a55a-aced5ad55431",
   "metadata": {},
   "outputs": [],
   "source": []
  },
  {
   "cell_type": "code",
   "execution_count": 8,
   "id": "f00d2ce4-716d-45ec-b200-070da389f26b",
   "metadata": {},
   "outputs": [
    {
     "data": {
      "text/plain": [
       "(262144,)"
      ]
     },
     "execution_count": 8,
     "metadata": {},
     "output_type": "execute_result"
    }
   ],
   "source": [
    "# testing\n",
    "occ_gt_im.shape"
   ]
  }
 ],
 "metadata": {
  "kernelspec": {
   "display_name": "Python 3 (ipykernel)",
   "language": "python",
   "name": "python3"
  },
  "language_info": {
   "codemirror_mode": {
    "name": "ipython",
    "version": 3
   },
   "file_extension": ".py",
   "mimetype": "text/x-python",
   "name": "python",
   "nbconvert_exporter": "python",
   "pygments_lexer": "ipython3",
   "version": "3.12.7"
  }
 },
 "nbformat": 4,
 "nbformat_minor": 5
}
